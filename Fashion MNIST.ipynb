{
 "cells": [
  {
   "cell_type": "code",
   "execution_count": 57,
   "metadata": {},
   "outputs": [],
   "source": [
    "import torchvision\n",
    "import torch\n",
    "import torch.nn as nn\n",
    "import torch.nn.functional as F\n",
    "import matplotlib.pyplot as plt\n",
    "import logging\n",
    "from torchvision import transforms\n",
    "import sklearn.metrics\n",
    "\n",
    "dtype = torch.float\n",
    "# device = torch.device(\"cpu\")\n",
    "device = torch.device(\"cuda:0\") # Uncomment this to run on GPU"
   ]
  },
  {
   "cell_type": "markdown",
   "metadata": {},
   "source": [
    "### Load Fashion MNIST dataset bundled with PyTorch"
   ]
  },
  {
   "cell_type": "code",
   "execution_count": 2,
   "metadata": {},
   "outputs": [
    {
     "name": "stdout",
     "output_type": "stream",
     "text": [
      "Dataset size: test=60000 train=10000\n"
     ]
    }
   ],
   "source": [
    "tf = transforms.Compose([\n",
    "    transforms.ToTensor(),\n",
    "    # transforms.Normalize((0.5,), (0.5,)),\n",
    "])\n",
    "ds = torchvision.datasets.FashionMNIST('./datasets', download=True, transform=tf)\n",
    "ds_test = torchvision.datasets.FashionMNIST('./datasets', train=False, transform=tf)\n",
    "\n",
    "print(\"Dataset size: test=%s train=%s\" % (len(ds), len(ds_test)))"
   ]
  },
  {
   "cell_type": "code",
   "execution_count": 3,
   "metadata": {},
   "outputs": [
    {
     "data": {
      "image/png": "[encoded data removed]",
      "text/plain": [
       "<Figure size 432x288 with 15 Axes>"
      ]
     },
     "metadata": {
      "needs_background": "light"
     },
     "output_type": "display_data"
    }
   ],
   "source": [
    "# Show sample images\n",
    "sample_rows, sample_cols = 3, 5\n",
    "for idx in range(sample_rows*sample_cols):\n",
    "    sample_idx = idx*7\n",
    "    plt.subplot(sample_rows, sample_cols, idx+1)\n",
    "    plt.title(ds.classes[ds.targets[sample_idx]])\n",
    "    plt.axis('off')\n",
    "    plt.imshow(ds.data[sample_idx], cmap='gray')"
   ]
  },
  {
   "cell_type": "markdown",
   "metadata": {},
   "source": [
    "### Model attempt 1: one hidden layer + ReLU + softmax + NLL loss"
   ]
  },
  {
   "cell_type": "code",
   "execution_count": 59,
   "metadata": {},
   "outputs": [],
   "source": [
    "class M1:\n",
    "    batch_size = 300\n",
    "    hidden_dim = 500\n",
    "    num_epochs = 10\n",
    "    input_dim = 28*28\n",
    "    output_dim = len(ds.classes)\n",
    "    learning_rate = 0.1\n",
    "\n",
    "    def __init__(self):\n",
    "        self.weights_1 = torch.randn(self.hidden_dim, self.input_dim, requires_grad=True,\n",
    "                                     device=device, dtype=dtype)\n",
    "        self.weights_2 = torch.randn(self.output_dim, self.hidden_dim, requires_grad=True,\n",
    "                                     device=device, dtype=dtype)\n",
    "\n",
    "    def loss(self, x, y):\n",
    "        x = x.to(device).reshape(len(x), self.input_dim).float() / 255.0\n",
    "        y = y.to(device)\n",
    "        model = F.linear(x, self.weights_1)\n",
    "        model = F.relu(model)\n",
    "        model = F.linear(model, self.weights_2)\n",
    "        return F.cross_entropy(model, y, reduction='mean')\n",
    "\n",
    "    def predict(self, x):\n",
    "        x = x.to(device).reshape(len(x), self.input_dim).float() / 255.0\n",
    "        model = F.linear(x, self.weights_1)\n",
    "        model = F.relu(model)\n",
    "        model = F.linear(model, self.weights_2)\n",
    "        _, pred = torch.max(F.softmax(model, dim=1), dim=1)\n",
    "        return pred\n",
    "\n",
    "    def evaluate(self):\n",
    "        with torch.no_grad():\n",
    "            test_loss = self.loss(ds_test.data, ds_test.targets)\n",
    "            acc = (self.predict(ds_test.data) == ds_test.targets.to(device)).float().mean()\n",
    "            print(\"test loss %.2f acc %0.2f\" % (test_loss.item(), acc.item()))\n",
    "\n",
    "    def train(self):\n",
    "        optimizer = torch.optim.Adam([self.weights_1, self.weights_2], lr=self.learning_rate)\n",
    "        loader = torch.utils.data.DataLoader(ds, batch_size=self.batch_size, shuffle=True)\n",
    "        for epoch_idx in range(self.num_epochs):\n",
    "            for batch_idx, (batch_x, batch_y) in enumerate(loader):\n",
    "                optimizer.zero_grad()\n",
    "                loss = self.loss(batch_x, batch_y)\n",
    "                if batch_idx*self.batch_size % 30000 == 0:\n",
    "                    print(\"Batch % 4d, batch train loss %.2f\" % (batch_idx, loss.item()))\n",
    "                loss.backward()\n",
    "                optimizer.step()\n",
    "            print(\"=== Epoch %d:\" % epoch_idx, end=\" \")\n",
    "            self.evaluate()"
   ]
  },
  {
   "cell_type": "code",
   "execution_count": 61,
   "metadata": {},
   "outputs": [
    {
     "name": "stdout",
     "output_type": "stream",
     "text": [
      "Batch    0, batch train loss 2.52\n",
      "Batch  100, batch train loss 0.50\n",
      "=== Epoch 0: test loss 59.84 acc 0.84\n",
      "Batch    0, batch train loss 0.44\n",
      "Batch  100, batch train loss 0.34\n",
      "=== Epoch 1: test loss 54.60 acc 0.86\n",
      "Batch    0, batch train loss 0.36\n",
      "Batch  100, batch train loss 0.34\n",
      "=== Epoch 2: test loss 54.70 acc 0.86\n",
      "Batch    0, batch train loss 0.38\n",
      "Batch  100, batch train loss 0.36\n",
      "=== Epoch 3: test loss 52.82 acc 0.87\n",
      "Batch    0, batch train loss 0.27\n",
      "Batch  100, batch train loss 0.29\n",
      "=== Epoch 4: test loss 54.47 acc 0.87\n",
      "Batch    0, batch train loss 0.23\n",
      "Batch  100, batch train loss 0.28\n",
      "=== Epoch 5: test loss 51.93 acc 0.87\n",
      "Batch    0, batch train loss 0.30\n",
      "Batch  100, batch train loss 0.31\n",
      "=== Epoch 6: test loss 55.78 acc 0.87\n",
      "Batch    0, batch train loss 0.25\n",
      "Batch  100, batch train loss 0.25\n",
      "=== Epoch 7: test loss 58.66 acc 0.88\n",
      "Batch    0, batch train loss 0.21\n",
      "Batch  100, batch train loss 0.18\n",
      "=== Epoch 8: test loss 56.45 acc 0.88\n",
      "Batch    0, batch train loss 0.26\n",
      "Batch  100, batch train loss 0.22\n",
      "=== Epoch 9: test loss 64.26 acc 0.87\n"
     ]
    }
   ],
   "source": [
    "m1 = M1()\n",
    "m1.train()"
   ]
  },
  {
   "cell_type": "code",
   "execution_count": 64,
   "metadata": {},
   "outputs": [
    {
     "name": "stdout",
     "output_type": "stream",
     "text": [
      "Predicted class: Trouser\n"
     ]
    },
    {
     "data": {
      "image/png": "[encoded data removed]",
      "text/plain": [
       "<Figure size 432x288 with 1 Axes>"
      ]
     },
     "metadata": {
      "needs_background": "light"
     },
     "output_type": "display_data"
    }
   ],
   "source": [
    "# Manually check some predictions\n",
    "ti = 2259\n",
    "plt.imshow(ds_test.data[ti])\n",
    "print('Predicted class: %s' % ds_test.classes[m1.predict(ds_test.data[ti:ti+1])])"
   ]
  },
  {
   "cell_type": "code",
   "execution_count": 66,
   "metadata": {},
   "outputs": [
    {
     "data": {
      "text/plain": [
       "['T-shirt/top',\n",
       " 'Trouser',\n",
       " 'Pullover',\n",
       " 'Dress',\n",
       " 'Coat',\n",
       " 'Sandal',\n",
       " 'Shirt',\n",
       " 'Sneaker',\n",
       " 'Bag',\n",
       " 'Ankle boot']"
      ]
     },
     "execution_count": 66,
     "metadata": {},
     "output_type": "execute_result"
    },
    {
     "data": {
      "image/png": "[encoded data removed]",
      "text/plain": [
       "<Figure size 288x288 with 1 Axes>"
      ]
     },
     "metadata": {
      "needs_background": "light"
     },
     "output_type": "display_data"
    }
   ],
   "source": [
    "# Show confusion matrix; seems like \"shirt\" is most confused with \"T-shirt/top\", \"Coat\", and \"Pullover\"\n",
    "cm = sklearn.metrics.confusion_matrix(ds_test.targets, m1.predict(ds_test.data).cpu())\n",
    "plt.matshow(cm)\n",
    "ds_test.classes"
   ]
  },
  {
   "cell_type": "code",
   "execution_count": 8,
   "metadata": {},
   "outputs": [
    {
     "data": {
      "text/plain": [
       "tensor(0.0607, device='cuda:0')"
      ]
     },
     "execution_count": 8,
     "metadata": {},
     "output_type": "execute_result"
    },
    {
     "data": {
      "image/png": "[encoded data removed]",
      "text/plain": [
       "<Figure size 432x288 with 1 Axes>"
      ]
     },
     "metadata": {
      "needs_background": "light"
     },
     "output_type": "display_data"
    }
   ],
   "source": [
    "# This isn't a very good model; shift the image a bit, and accuracy drops to 62%\n",
    "h_shift = 2\n",
    "shifted = torch.cat((ds_test.data[:, :, h_shift:], torch.zeros(len(ds_test.data), 28, h_shift, dtype=torch.uint8)), dim=2)\n",
    "plt.imshow(shifted[2338])\n",
    "(m1.predict(shifted) == ds_test.targets.to(device)).float().mean()"
   ]
  },
  {
   "cell_type": "markdown",
   "metadata": {},
   "source": [
    "### Model attempt 2: CNN with batch normalization"
   ]
  },
  {
   "cell_type": "code",
   "execution_count": 167,
   "metadata": {},
   "outputs": [],
   "source": [
    "class M2(nn.Module):\n",
    "    def __init__(self, num_classes):\n",
    "        super(M2, self).__init__()\n",
    "        self.num_classes = num_classes\n",
    "        self.layer1 = nn.Sequential(\n",
    "            nn.Conv2d(1, 20, kernel_size=5, padding=2),\n",
    "            nn.BatchNorm2d(20),\n",
    "            nn.ReLU(),\n",
    "            nn.MaxPool2d(kernel_size=5, stride=2),\n",
    "        )\n",
    "        self.layer2 = nn.Sequential(\n",
    "            nn.Conv2d(20, 20, kernel_size=5, padding=2),\n",
    "            nn.BatchNorm2d(20),\n",
    "            nn.ReLU(),\n",
    "            nn.MaxPool2d(kernel_size=4, stride=2),\n",
    "        )\n",
    "        self.linear = nn.Linear(500, self.num_classes)\n",
    "\n",
    "    def forward(self, x):\n",
    "        out = self.layer1(x)\n",
    "        out = self.layer2(out)\n",
    "        out = out.reshape(out.size(0), -1)\n",
    "        out = self.linear(out)\n",
    "        return out"
   ]
  },
  {
   "cell_type": "code",
   "execution_count": 212,
   "metadata": {},
   "outputs": [],
   "source": [
    "def train(net, learning_rate=0.003, batch_size=500, num_epochs=10):\n",
    "    criterion = nn.CrossEntropyLoss()\n",
    "    optimizer = torch.optim.Adam(net.parameters(), lr=learning_rate)\n",
    "    loader = torch.utils.data.DataLoader(ds, batch_size=batch_size, shuffle=True)\n",
    "    for epoch_idx in range(num_epochs):\n",
    "        for batch_idx, (batch_x, batch_y) in enumerate(loader):\n",
    "            batch_x, batch_y = batch_x.to(device), batch_y.to(device)\n",
    "            optimizer.zero_grad()\n",
    "            criterion(net(batch_x), batch_y).backward()\n",
    "            optimizer.step()\n",
    "        evaluate(net, epoch_idx, show_cm=(epoch_idx == num_epochs-1))\n",
    "\n",
    "def evaluate(net, epoch_idx, show_cm=False, transform_input_fn=None, show_example_pred=None):\n",
    "    criterion = nn.CrossEntropyLoss()\n",
    "    with torch.no_grad():\n",
    "        loader = torch.utils.data.DataLoader(ds_test, batch_size=len(ds_test.data), shuffle=True)\n",
    "        _, (batch_x, batch_y) = next(enumerate(loader))\n",
    "        batch_x, batch_y = batch_x.to(device), batch_y.to(device)\n",
    "        if transform_input_fn is not None:\n",
    "            batch_x = transform_input_fn(batch_x)\n",
    "        test_pred = net(batch_x)\n",
    "        test_loss = criterion(test_pred, batch_y)\n",
    "        _, pred_targets = torch.max(F.softmax(test_pred, dim=1), dim=1)\n",
    "        test_acc = (pred_targets == batch_y).float().mean()\n",
    "        print(\"Epoch %d: loss %.2f acc %0.2f\" % (epoch_idx+1, test_loss.item(), test_acc.item()))\n",
    "        # Confusion matrix\n",
    "        if show_cm:\n",
    "            cm = sklearn.metrics.confusion_matrix(batch_y.cpu(), pred_targets.cpu())\n",
    "            plt.matshow(cm)\n",
    "        if show_example_pred is not None:\n",
    "            plt.imshow(batch_x[show_example_pred].cpu().reshape(28, 28))\n",
    "            print('Predicted class: %s' % ds_test.classes[pred_targets[show_example_pred]])\n",
    "            print('Ground truth: %s' % ds_test.classes[batch_y[show_example_pred]])"
   ]
  },
  {
   "cell_type": "code",
   "execution_count": 169,
   "metadata": {},
   "outputs": [
    {
     "name": "stdout",
     "output_type": "stream",
     "text": [
      "Epoch 1: loss 0.41 acc 0.86\n",
      "Epoch 2: loss 0.35 acc 0.87\n",
      "Epoch 3: loss 0.32 acc 0.88\n",
      "Epoch 4: loss 0.30 acc 0.89\n",
      "Epoch 5: loss 0.31 acc 0.89\n",
      "Epoch 6: loss 0.28 acc 0.90\n",
      "Epoch 7: loss 0.30 acc 0.89\n",
      "Epoch 8: loss 0.28 acc 0.90\n",
      "Epoch 9: loss 0.28 acc 0.90\n",
      "Epoch 10: loss 0.29 acc 0.90\n",
      "Epoch 11: loss 0.27 acc 0.90\n",
      "Epoch 12: loss 0.28 acc 0.90\n",
      "Epoch 13: loss 0.27 acc 0.90\n",
      "Epoch 14: loss 0.29 acc 0.90\n",
      "Epoch 15: loss 0.29 acc 0.90\n",
      "Epoch 16: loss 0.28 acc 0.91\n",
      "Epoch 17: loss 0.26 acc 0.91\n",
      "Epoch 18: loss 0.27 acc 0.90\n",
      "Epoch 19: loss 0.27 acc 0.91\n",
      "Epoch 20: loss 0.29 acc 0.90\n"
     ]
    },
    {
     "data": {
      "image/png": "[encoded data removed]",
      "text/plain": [
       "<Figure size 288x288 with 1 Axes>"
      ]
     },
     "metadata": {
      "needs_background": "light"
     },
     "output_type": "display_data"
    }
   ],
   "source": [
    "m2 = M2(len(ds.classes)).to(device)\n",
    "train(m2, num_epochs=20)"
   ]
  },
  {
   "cell_type": "code",
   "execution_count": 172,
   "metadata": {},
   "outputs": [
    {
     "name": "stdout",
     "output_type": "stream",
     "text": [
      "Accuracy after shifting image by 3 pixels\n",
      "M1: acc 0.45\n",
      "M2: Epoch 0: loss 0.64 acc 0.78\n"
     ]
    },
    {
     "data": {
      "image/png": "[encoded data removed]",
      "text/plain": [
       "<Figure size 288x288 with 1 Axes>"
      ]
     },
     "metadata": {
      "needs_background": "light"
     },
     "output_type": "display_data"
    }
   ],
   "source": [
    "# M2 is more resilient to image translation than M1\n",
    "h_shift = 3\n",
    "shifted = torch.cat((ds_test.data[:, :, h_shift:], torch.zeros(len(ds_test.data), 28, h_shift, dtype=torch.uint8)), dim=2)\n",
    "print(\"Accuracy after shifting image by %d pixels\" % h_shift)\n",
    "print(\"M1: acc %.2f\" % (m1.predict(shifted) == ds_test.targets.to(device)).float().mean())\n",
    "\n",
    "transform_input_fn = lambda t: torch.cat(\n",
    "    (t[:, :, :, h_shift:],\n",
    "     torch.zeros(t.size(0), 1, 28, h_shift, device=device)),\n",
    "    dim=3)\n",
    "print(\"M2:\", end=\" \")\n",
    "evaluate(m2, -1, transform_input_fn=transform_input_fn, show_cm=True)"
   ]
  },
  {
   "cell_type": "code",
   "execution_count": 251,
   "metadata": {},
   "outputs": [
    {
     "name": "stdout",
     "output_type": "stream",
     "text": [
      "Epoch 0: loss 0.29 acc 0.90\n",
      "Predicted class: Ankle boot\n",
      "Ground truth: Ankle boot\n"
     ]
    },
    {
     "data": {
      "image/png": "[encoded data removed]",
      "text/plain": [
       "<Figure size 432x288 with 1 Axes>"
      ]
     },
     "metadata": {
      "needs_background": "light"
     },
     "output_type": "display_data"
    }
   ],
   "source": [
    "evaluate(m2, -1, show_example_pred=137)"
   ]
  },
  {
   "cell_type": "code",
   "execution_count": null,
   "metadata": {},
   "outputs": [],
   "source": []
  }
 ],
 "metadata": {
  "kernelspec": {
   "display_name": "Python 3",
   "language": "python",
   "name": "python3"
  },
  "language_info": {
   "codemirror_mode": {
    "name": "ipython",
    "version": 3
   },
   "file_extension": ".py",
   "mimetype": "text/x-python",
   "name": "python",
   "nbconvert_exporter": "python",
   "pygments_lexer": "ipython3",
   "version": "3.7.4"
  }
 },
 "nbformat": 4,
 "nbformat_minor": 4
}
