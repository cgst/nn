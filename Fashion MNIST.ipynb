{
 "cells": [
  {
   "cell_type": "code",
   "execution_count": 1,
   "metadata": {},
   "outputs": [],
   "source": [
    "import torchvision\n",
    "import torch\n",
    "import torch.nn.functional as F\n",
    "import matplotlib.pyplot as plt\n",
    "import logging\n",
    "from torchvision import transforms\n",
    "\n",
    "dtype = torch.float\n",
    "# device = torch.device(\"cpu\")\n",
    "device = torch.device(\"cuda:0\") # Uncomment this to run on GPU"
   ]
  },
  {
   "cell_type": "markdown",
   "metadata": {},
   "source": [
    "### Load Fashion MNIST dataset bundled with PyTorch"
   ]
  },
  {
   "cell_type": "code",
   "execution_count": 2,
   "metadata": {},
   "outputs": [
    {
     "name": "stdout",
     "output_type": "stream",
     "text": [
      "Dataset size: test=60000 train=10000\n"
     ]
    }
   ],
   "source": [
    "tf = transforms.Compose([\n",
    "    transforms.ToTensor(),\n",
    "    # transforms.Normalize((0.5,), (0.5,)),\n",
    "])\n",
    "ds = torchvision.datasets.FashionMNIST('./datasets', download=True, transform=tf)\n",
    "ds_test = torchvision.datasets.FashionMNIST('./datasets', train=False, transform=tf)\n",
    "\n",
    "print(\"Dataset size: test=%s train=%s\" % (len(ds), len(ds_test)))"
   ]
  },
  {
   "cell_type": "code",
   "execution_count": 3,
   "metadata": {},
   "outputs": [
    {
     "data": {
      "image/png": "[encoded data removed]",
      "text/plain": [
       "<Figure size 432x288 with 15 Axes>"
      ]
     },
     "metadata": {
      "needs_background": "light"
     },
     "output_type": "display_data"
    }
   ],
   "source": [
    "# Show sample images\n",
    "sample_rows, sample_cols = 3, 5\n",
    "for idx in range(sample_rows*sample_cols):\n",
    "    sample_idx = idx*13\n",
    "    plt.subplot(sample_rows, sample_cols, idx+1)\n",
    "    plt.title(ds.classes[ds.targets[sample_idx]])\n",
    "    plt.axis('off')\n",
    "    plt.imshow(ds.data[sample_idx], cmap='gray')"
   ]
  },
  {
   "cell_type": "markdown",
   "metadata": {},
   "source": [
    "### Model attempt 1: one hidden layer + ReLU + softmax + NLL loss"
   ]
  },
  {
   "cell_type": "code",
   "execution_count": 70,
   "metadata": {},
   "outputs": [],
   "source": [
    "class M1:\n",
    "    batch_size = 100\n",
    "    hidden_dim = 300\n",
    "    num_epochs = 20\n",
    "    input_dim = 28*28\n",
    "    output_dim = len(ds.classes)\n",
    "    learning_rate = 0.1\n",
    "\n",
    "    def __init__(self):\n",
    "        self.weights_1 = torch.randn(self.hidden_dim, self.input_dim, requires_grad=True,\n",
    "                                     device=device, dtype=dtype)\n",
    "        self.weights_2 = torch.randn(self.output_dim, self.hidden_dim, requires_grad=True,\n",
    "                                     device=device, dtype=dtype)\n",
    "\n",
    "    def loss(self, x, y):\n",
    "        x = x.to(device).reshape(len(x), self.input_dim).float() / 255.0\n",
    "        y = y.to(device)\n",
    "        model = F.linear(x, self.weights_1)\n",
    "        model = F.relu(model)\n",
    "        model = F.linear(model, self.weights_2)\n",
    "        return F.cross_entropy(model, y, reduction='mean')\n",
    "\n",
    "    def predict(self, x):\n",
    "        x = x.to(device).reshape(len(x), self.input_dim).float() / 255.0\n",
    "        model = F.linear(x, self.weights_1)\n",
    "        model = F.relu(model)\n",
    "        model = F.linear(model, self.weights_2)\n",
    "        _, pred = torch.max(F.softmax(model, dim=1), dim=1)\n",
    "        return pred\n",
    "\n",
    "    def evaluate(self):\n",
    "        with torch.no_grad():\n",
    "            test_loss = self.loss(ds_test.data, ds_test.targets)\n",
    "            acc = (self.predict(ds_test.data) == ds_test.targets.to(device)).float().mean()\n",
    "            print(\"test loss %.2f acc %0.2f\" % (test_loss.item(), acc.item()))\n",
    "\n",
    "    def train(self):\n",
    "        optimizer = torch.optim.Adam([self.weights_1, self.weights_2], lr=self.learning_rate)\n",
    "        loader = torch.utils.data.DataLoader(ds, batch_size=self.batch_size, shuffle=True)\n",
    "        for epoch_idx in range(self.num_epochs):\n",
    "            for batch_idx, (batch_x, batch_y) in enumerate(loader):\n",
    "                optimizer.zero_grad()\n",
    "                loss = self.loss(batch_x, batch_y)\n",
    "                if batch_idx*self.batch_size % 30000 == 0:\n",
    "                    print(\"Batch % 4d, batch train loss %.2f\" % (batch_idx, loss.item()))\n",
    "                loss.backward()\n",
    "                optimizer.step()\n",
    "            print(\"=== Epoch %d:\" % epoch_idx, end=\" \")\n",
    "            self.evaluate()"
   ]
  },
  {
   "cell_type": "code",
   "execution_count": 71,
   "metadata": {},
   "outputs": [
    {
     "name": "stdout",
     "output_type": "stream",
     "text": [
      "Batch    0, batch train loss 2.45\n",
      "Batch  300, batch train loss 0.56\n",
      "=== Epoch 0: test loss 64.60 acc 0.82\n",
      "Batch    0, batch train loss 0.32\n",
      "Batch  300, batch train loss 0.57\n",
      "=== Epoch 1: test loss 54.35 acc 0.85\n",
      "Batch    0, batch train loss 0.37\n",
      "Batch  300, batch train loss 0.27\n",
      "=== Epoch 2: test loss 52.04 acc 0.86\n",
      "Batch    0, batch train loss 0.47\n",
      "Batch  300, batch train loss 0.38\n",
      "=== Epoch 3: test loss 56.89 acc 0.86\n",
      "Batch    0, batch train loss 0.30\n",
      "Batch  300, batch train loss 0.23\n",
      "=== Epoch 4: test loss 61.40 acc 0.86\n",
      "Batch    0, batch train loss 0.56\n",
      "Batch  300, batch train loss 0.45\n",
      "=== Epoch 5: test loss 60.46 acc 0.87\n",
      "Batch    0, batch train loss 0.19\n",
      "Batch  300, batch train loss 0.18\n",
      "=== Epoch 6: test loss 57.56 acc 0.87\n",
      "Batch    0, batch train loss 0.22\n",
      "Batch  300, batch train loss 0.33\n",
      "=== Epoch 7: test loss 65.43 acc 0.86\n",
      "Batch    0, batch train loss 0.40\n",
      "Batch  300, batch train loss 0.15\n",
      "=== Epoch 8: test loss 59.12 acc 0.87\n",
      "Batch    0, batch train loss 0.30\n",
      "Batch  300, batch train loss 0.35\n",
      "=== Epoch 9: test loss 62.10 acc 0.87\n",
      "Batch    0, batch train loss 0.28\n",
      "Batch  300, batch train loss 0.35\n",
      "=== Epoch 10: test loss 63.31 acc 0.86\n",
      "Batch    0, batch train loss 0.34\n",
      "Batch  300, batch train loss 0.22\n",
      "=== Epoch 11: test loss 68.44 acc 0.87\n",
      "Batch    0, batch train loss 0.21\n",
      "Batch  300, batch train loss 0.28\n",
      "=== Epoch 12: test loss 71.03 acc 0.87\n",
      "Batch    0, batch train loss 0.37\n",
      "Batch  300, batch train loss 0.38\n",
      "=== Epoch 13: test loss 65.00 acc 0.88\n",
      "Batch    0, batch train loss 0.19\n",
      "Batch  300, batch train loss 0.30\n",
      "=== Epoch 14: test loss 62.25 acc 0.88\n",
      "Batch    0, batch train loss 0.31\n",
      "Batch  300, batch train loss 0.14\n",
      "=== Epoch 15: test loss 71.86 acc 0.87\n",
      "Batch    0, batch train loss 0.19\n",
      "Batch  300, batch train loss 0.35\n",
      "=== Epoch 16: test loss 72.03 acc 0.87\n",
      "Batch    0, batch train loss 0.16\n",
      "Batch  300, batch train loss 0.21\n",
      "=== Epoch 17: test loss 68.28 acc 0.88\n",
      "Batch    0, batch train loss 0.20\n",
      "Batch  300, batch train loss 0.39\n",
      "=== Epoch 18: test loss 71.98 acc 0.87\n",
      "Batch    0, batch train loss 0.39\n",
      "Batch  300, batch train loss 0.18\n",
      "=== Epoch 19: test loss 81.37 acc 0.88\n"
     ]
    }
   ],
   "source": [
    "m1 = M1()\n",
    "m1.train()"
   ]
  },
  {
   "cell_type": "code",
   "execution_count": 89,
   "metadata": {},
   "outputs": [
    {
     "data": {
      "text/plain": [
       "'Pullover'"
      ]
     },
     "execution_count": 89,
     "metadata": {},
     "output_type": "execute_result"
    },
    {
     "data": {
      "image/png": "[encoded data removed]",
      "text/plain": [
       "<Figure size 432x288 with 1 Axes>"
      ]
     },
     "metadata": {
      "needs_background": "light"
     },
     "output_type": "display_data"
    }
   ],
   "source": [
    "ti = 8919\n",
    "plt.imshow(ds_test.data[ti])\n",
    "ds_test.classes[m1.predict(ds_test.data[ti:ti+1])]"
   ]
  },
  {
   "cell_type": "code",
   "execution_count": 17,
   "metadata": {},
   "outputs": [
    {
     "data": {
      "text/plain": [
       "device(type='cuda', index=0)"
      ]
     },
     "execution_count": 17,
     "metadata": {},
     "output_type": "execute_result"
    }
   ],
   "source": []
  },
  {
   "cell_type": "code",
   "execution_count": null,
   "metadata": {},
   "outputs": [],
   "source": []
  }
 ],
 "metadata": {
  "kernelspec": {
   "display_name": "Python 3",
   "language": "python",
   "name": "python3"
  },
  "language_info": {
   "codemirror_mode": {
    "name": "ipython",
    "version": 3
   },
   "file_extension": ".py",
   "mimetype": "text/x-python",
   "name": "python",
   "nbconvert_exporter": "python",
   "pygments_lexer": "ipython3",
   "version": "3.7.4"
  }
 },
 "nbformat": 4,
 "nbformat_minor": 4
}
